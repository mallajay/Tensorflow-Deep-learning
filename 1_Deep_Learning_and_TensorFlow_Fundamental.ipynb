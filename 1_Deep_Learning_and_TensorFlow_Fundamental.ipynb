{
  "nbformat": 4,
  "nbformat_minor": 0,
  "metadata": {
    "colab": {
      "provenance": [],
      "collapsed_sections": []
    },
    "kernelspec": {
      "name": "python3",
      "display_name": "Python 3"
    },
    "language_info": {
      "name": "python"
    }
  },
  "cells": [
    {
      "cell_type": "markdown",
      "source": [
        "# Deep learning with TensorFlow\n",
        "\n",
        "### What is Deep learning?\n",
        "- A type of machine learning based on artificial neural networks in which multiple layers of processing are used to extract progressively higher level features from data.\n",
        "\n",
        "- Machine learning turnng things(data) into numbers and `finding patterns` in those numbers.\n",
        "\n",
        "![image.png](https://upload.wikimedia.org/wikipedia/commons/thumb/b/bb/AI-ML-DL.svg/220px-AI-ML-DL.svg.png)\n",
        "\n",
        "\n",
        "\n",
        "### Why use Deep learning?\n",
        "- For complex problem, can you think of all the rule.\n",
        "- Use ML for anything as long as you can convert it into numbers and program it to find patterns. Literally it could be anything any input or output froms the unverse.\n",
        "\n",
        "### What deep learning is good for?\n",
        "- Problem with long list of rules\n",
        "- Continually changing environments - deep learning can adapt('learn') to new scenarios.\n",
        "- Discovering insights within large collections of data.\n",
        "\n",
        "### What deep learning is not good for?\n",
        "- When you need explanability.\n",
        "- When traditional approach is better option,\n",
        "- When error are unacceptable.\n",
        "- When you don't have much data.\n",
        "\n",
        "\n",
        "### Machine Learning VS Deep Learning\n",
        "- Machine Learning\n",
        "  - It typically perform best on **structure Data**\n",
        "  - e.g Data in Excel sheet\n",
        "  - Machine Learning Algorithms (Shallow Algorithms)\n",
        "    1. Random forest\n",
        "    2. Naive bayes\n",
        "    3. Spport vector machine\n",
        "    4. Many more...\n",
        "\n",
        "- Deep Learning\n",
        "  - It typically perform best on **unstructure data**\n",
        "  - e.g. Natural languge text, Image Identification(Food identification) and sound wave\n",
        "  - Deep Learning Algorithms\n",
        "    1. Neural Network\n",
        "    2. Fully connected neural network\n",
        "    3. Convolution neural network\n",
        "    4. Recurrent neural network\n",
        "    5. Transformer\n",
        "    6. Many more...\n",
        "\n",
        "\n"
      ],
      "metadata": {
        "id": "3earCINXqzMp"
      }
    },
    {
      "cell_type": "markdown",
      "source": [
        "### What are neural network?\n",
        "\n",
        "Data => Turn Data into Number => Neural network(Learns representation patterns/features/weights) => Representation outputs ==> Convert it into human readable form\n",
        "\n",
        "![image.png](https://raw.githubusercontent.com/mallajay/Tensorflow-Deep-learning/main/image/1.neural_network.png)\n",
        "\n",
        "\n",
        "### Anatomy of Neural Networks\n",
        "![image.png](https://raw.githubusercontent.com/mallajay/Tensorflow-Deep-learning/main/image/2.Anatomy_of_neural_network.png)\n",
        "\n",
        "### Type of learning\n",
        "![image.png](https://raw.githubusercontent.com/mallajay/Tensorflow-Deep-learning/main/image/3.type_of_learning.png)\n",
        "\n",
        "\n",
        "\n"
      ],
      "metadata": {
        "id": "ijyQ-eB0ySyY"
      }
    },
    {
      "cell_type": "markdown",
      "source": [
        "# TensorFlow\n",
        "\n",
        "### What is TensorFlow?\n",
        "- End-to-end platfrom for machine learning \n",
        "- Write fast deep learning code in python/other accessible language(able to run on GPU/TPU)\n",
        "- Able to access many pre-built deep learning models(TensofFlow Hub)\n",
        "- Whole stack: preprocess data, modal data, deploy model in your application\n",
        "- Originally designed and used in-house by Google(now open-source)\n",
        "\n",
        "### Why use TensorFlow?\n",
        "- Easy model building\n",
        "- Robust ML production anywhere\n",
        "- Powerful experimentation for research\n",
        "\n",
        "### What is GPU/TPU?\n",
        "\n"
      ],
      "metadata": {
        "id": "MHH4poRH8OWs"
      }
    },
    {
      "cell_type": "markdown",
      "source": [],
      "metadata": {
        "id": "IiSt1QPs1yUN"
      }
    }
  ]
}