{
  "nbformat": 4,
  "nbformat_minor": 0,
  "metadata": {
    "colab": {
      "provenance": [],
      "collapsed_sections": []
    },
    "kernelspec": {
      "name": "python3",
      "display_name": "Python 3"
    },
    "language_info": {
      "name": "python"
    }
  },
  "cells": [
    {
      "cell_type": "markdown",
      "source": [
        "# Deep learning with TensorFlow\n",
        "\n",
        "### What is Deep learning?\n",
        "- A type of machine learning based on artificial neural networks in which multiple layers of processing are used to extract progressively higher level features from data.\n",
        "\n",
        "- Machine learning turnng things(data) into numbers and `finding patterns` in those numbers.\n",
        "\n",
        "![image.png](https://upload.wikimedia.org/wikipedia/commons/thumb/b/bb/AI-ML-DL.svg/220px-AI-ML-DL.svg.png)\n",
        "\n",
        "\n",
        "\n",
        "### Why use Deep learning?\n",
        "- For complex problem, can you think of all the rule.\n",
        "- Use ML for anything as long as you can convert it into numbers and program it to find patterns. Literally it could be anything any input or output froms the unverse.\n",
        "\n",
        "### What deep learning is good for?\n",
        "- Problem with long list of rules\n",
        "- Continually changing environments - deep learning can adapt('learn') to new scenarios.\n",
        "- Discovering insights within large collections of data.\n",
        "\n",
        "### What deep learning is not good for?\n",
        "- When you need explanability.\n",
        "- When traditional approach is better option,\n",
        "- When error are unacceptable.\n",
        "- When you don't have much data.\n",
        "\n",
        "\n",
        "### Machine Learning VS Deep Learning\n",
        "- Machine Learning\n",
        "  - It typically perform best on **structure Data**\n",
        "  - e.g Data in Excel sheet\n",
        "  - Machine Learning Algorithms (Shallow Algorithms)\n",
        "    1. Random forest\n",
        "    2. Naive bayes\n",
        "    3. Spport vector machine\n",
        "    4. Many more...\n",
        "\n",
        "- Deep Learning\n",
        "  - It typically perform best on **unstructure data**\n",
        "  - e.g. Natural languge text, Image Identification(Food identification) and sound wave\n",
        "  - Deep Learning Algorithms\n",
        "    1. Neural Network\n",
        "    2. Fully connected neural network\n",
        "    3. Convolution neural network\n",
        "    4. Recurrent neural network\n",
        "    5. Transformer\n",
        "    6. Many more...\n",
        "\n",
        "\n"
      ],
      "metadata": {
        "id": "3earCINXqzMp"
      }
    },
    {
      "cell_type": "markdown",
      "source": [
        "### What are neural network?\n",
        "\n",
        "Data => Turn Data into Number => Neural network(Learns representation patterns/features/weights) => Representation outputs ==> Convert it into human readable form\n",
        "\n",
        "![image.png](https://raw.githubusercontent.com/mallajay/Tensorflow-Deep-learning/main/image/1.neural_network.png)\n",
        "\n",
        "\n",
        "### Anatomy of Neural Networks\n",
        "![image.png](https://raw.githubusercontent.com/mallajay/Tensorflow-Deep-learning/main/image/2.Anatomy_of_neural_network.png)\n",
        "\n",
        "### Type of learning\n",
        "![image.png](https://raw.githubusercontent.com/mallajay/Tensorflow-Deep-learning/main/image/3.type_of_learning.png)\n",
        "\n",
        "\n",
        "\n"
      ],
      "metadata": {
        "id": "ijyQ-eB0ySyY"
      }
    },
    {
      "cell_type": "markdown",
      "source": [
        "# TensorFlow\n",
        "\n",
        "### What is TensorFlow?\n",
        "- End-to-end platfrom for machine learning \n",
        "- Write fast deep learning code in python/other accessible language(able to run on GPU/TPU)\n",
        "- Able to access many pre-built deep learning models(TensofFlow Hub)\n",
        "- Whole stack: preprocess data, modal data, deploy model in your application\n",
        "- Originally designed and used in-house by Google(now open-source)\n",
        "\n",
        "### Why use TensorFlow?\n",
        "- Easy model building\n",
        "- Robust ML production anywhere\n",
        "- Powerful experimentation for research\n",
        "\n",
        "### What is Tensor?\n",
        "![image.png](https://raw.githubusercontent.com/mallajay/Tensorflow-Deep-learning/main/image/4.what_is_tensor.png)\n",
        "\n",
        "\n",
        "\n",
        "\n",
        "\n",
        "\n"
      ],
      "metadata": {
        "id": "MHH4poRH8OWs"
      }
    },
    {
      "cell_type": "markdown",
      "source": [
        "# In this notebook, we're going to cover some of the most fundamental concepts of tensors using TensorFlow\n",
        "\n",
        "More Specifically, we're going to cover:\n",
        "* Introduction to tensors\n",
        "* Getting information from tensors\n",
        "* Manipulating tensors\n",
        "* Tensors & NumPy\n",
        "* Using @tf.functions (a way to speedup your regular Python functions)\n",
        "* Using GPU with TensorFlow (or TPU)\n",
        "* Exercises to try yourself!"
      ],
      "metadata": {
        "id": "hoa_Rpy_IP58"
      }
    },
    {
      "cell_type": "markdown",
      "source": [
        "## Introduction to tensors"
      ],
      "metadata": {
        "id": "5GBTQr54JfZd"
      }
    },
    {
      "cell_type": "code",
      "source": [
        "# Import TensorFlow\n",
        "import tensorflow as tf\n",
        "\n",
        "print(tf.__version__)"
      ],
      "metadata": {
        "colab": {
          "base_uri": "https://localhost:8080/"
        },
        "id": "j9sg8FINJs1r",
        "outputId": "291ff0bd-334b-4f13-abe1-2ec9c16cbbf1"
      },
      "execution_count": 3,
      "outputs": [
        {
          "output_type": "stream",
          "name": "stdout",
          "text": [
            "2.8.2\n"
          ]
        }
      ]
    },
    {
      "cell_type": "code",
      "source": [
        "# Create tensor with tf.c\n",
        "scalar = tf.constant(7)\n",
        "scalar"
      ],
      "metadata": {
        "colab": {
          "base_uri": "https://localhost:8080/"
        },
        "id": "VyMwTArfKHpT",
        "outputId": "2f6cce0f-c971-4db8-a192-43aa07d9ffbc"
      },
      "execution_count": 4,
      "outputs": [
        {
          "output_type": "execute_result",
          "data": {
            "text/plain": [
              "<tf.Tensor: shape=(), dtype=int32, numpy=7>"
            ]
          },
          "metadata": {},
          "execution_count": 4
        }
      ]
    },
    {
      "cell_type": "code",
      "source": [
        "# check the number of dimension of a tensor (ndims stands for number of dimensions)\n",
        "scalar.ndim"
      ],
      "metadata": {
        "colab": {
          "base_uri": "https://localhost:8080/"
        },
        "id": "J-7B6UqXKr0w",
        "outputId": "171eab84-bb92-45c3-c337-19b8fa26400b"
      },
      "execution_count": 5,
      "outputs": [
        {
          "output_type": "execute_result",
          "data": {
            "text/plain": [
              "0"
            ]
          },
          "metadata": {},
          "execution_count": 5
        }
      ]
    },
    {
      "cell_type": "code",
      "source": [
        "# Create a vector\n",
        "vector = tf.constant([10, 10])\n",
        "vector"
      ],
      "metadata": {
        "colab": {
          "base_uri": "https://localhost:8080/"
        },
        "id": "ioN2ZmX7K9R-",
        "outputId": "d998d268-9e23-43d4-e988-2f3ebf22a85d"
      },
      "execution_count": 7,
      "outputs": [
        {
          "output_type": "execute_result",
          "data": {
            "text/plain": [
              "<tf.Tensor: shape=(2,), dtype=int32, numpy=array([10, 10], dtype=int32)>"
            ]
          },
          "metadata": {},
          "execution_count": 7
        }
      ]
    },
    {
      "cell_type": "code",
      "source": [
        "# Check the dimension of our vector\n",
        "vector.ndim"
      ],
      "metadata": {
        "colab": {
          "base_uri": "https://localhost:8080/"
        },
        "id": "swRl4eqELN2h",
        "outputId": "8bc294bf-8c80-440b-9415-fad776b22202"
      },
      "execution_count": 8,
      "outputs": [
        {
          "output_type": "execute_result",
          "data": {
            "text/plain": [
              "1"
            ]
          },
          "metadata": {},
          "execution_count": 8
        }
      ]
    },
    {
      "cell_type": "code",
      "source": [
        "# Create a matrix (has more then one dimension)\n",
        "matrix = tf.constant([ [10, 7], \n",
        "                       [7, 10]\n",
        "                      ])\n",
        "matrix"
      ],
      "metadata": {
        "colab": {
          "base_uri": "https://localhost:8080/"
        },
        "id": "SeJP88jkLVFJ",
        "outputId": "6da3d636-fdd7-4d18-c45b-d0998d249b7c"
      },
      "execution_count": 9,
      "outputs": [
        {
          "output_type": "execute_result",
          "data": {
            "text/plain": [
              "<tf.Tensor: shape=(2, 2), dtype=int32, numpy=\n",
              "array([[10,  7],\n",
              "       [ 7, 10]], dtype=int32)>"
            ]
          },
          "metadata": {},
          "execution_count": 9
        }
      ]
    },
    {
      "cell_type": "code",
      "source": [
        "matrix.ndim"
      ],
      "metadata": {
        "colab": {
          "base_uri": "https://localhost:8080/"
        },
        "id": "QYBRwwMvLyZg",
        "outputId": "9f6a710d-328d-4cd6-fd2f-84d09718bf16"
      },
      "execution_count": 10,
      "outputs": [
        {
          "output_type": "execute_result",
          "data": {
            "text/plain": [
              "2"
            ]
          },
          "metadata": {},
          "execution_count": 10
        }
      ]
    },
    {
      "cell_type": "code",
      "source": [
        "# Create another matrix\n",
        "another_matrix = tf.constant([[10., 7.],\n",
        "                              [3., 2.],\n",
        "                              [8., 9.]\n",
        "                              ], dtype=tf.float16) # specify the data type with dtype parameter\n",
        "\n",
        "another_matrix"
      ],
      "metadata": {
        "colab": {
          "base_uri": "https://localhost:8080/"
        },
        "id": "xqmkZUX5L9gj",
        "outputId": "42985e2d-e934-431c-9dec-90ad12538416"
      },
      "execution_count": 16,
      "outputs": [
        {
          "output_type": "execute_result",
          "data": {
            "text/plain": [
              "<tf.Tensor: shape=(3, 2), dtype=float16, numpy=\n",
              "array([[10.,  7.],\n",
              "       [ 3.,  2.],\n",
              "       [ 8.,  9.]], dtype=float16)>"
            ]
          },
          "metadata": {},
          "execution_count": 16
        }
      ]
    },
    {
      "cell_type": "code",
      "source": [
        "# What's the number dimensions of another_matrix\n",
        "\n",
        "another_matrix.ndim"
      ],
      "metadata": {
        "colab": {
          "base_uri": "https://localhost:8080/"
        },
        "id": "U96U8YX2Ml29",
        "outputId": "78ad4be7-2e93-4775-a7ff-af41e27e705c"
      },
      "execution_count": 17,
      "outputs": [
        {
          "output_type": "execute_result",
          "data": {
            "text/plain": [
              "2"
            ]
          },
          "metadata": {},
          "execution_count": 17
        }
      ]
    },
    {
      "cell_type": "code",
      "source": [
        "# Let's create a tensor\n",
        "tensor = tf.constant([[[1, 2, 3,], \n",
        "                       [4, 5, 6]],\n",
        "                    [[7, 8, 9],\n",
        "                     [10, 11, 12]], \n",
        "                    [[13, 14, 15],\n",
        "                     [16, 17, 18]]])\n",
        "\n",
        "tensor"
      ],
      "metadata": {
        "colab": {
          "base_uri": "https://localhost:8080/"
        },
        "id": "a64S3yhXM3q_",
        "outputId": "6014711c-b894-401d-c7f3-22e91fda0673"
      },
      "execution_count": 18,
      "outputs": [
        {
          "output_type": "execute_result",
          "data": {
            "text/plain": [
              "<tf.Tensor: shape=(3, 2, 3), dtype=int32, numpy=\n",
              "array([[[ 1,  2,  3],\n",
              "        [ 4,  5,  6]],\n",
              "\n",
              "       [[ 7,  8,  9],\n",
              "        [10, 11, 12]],\n",
              "\n",
              "       [[13, 14, 15],\n",
              "        [16, 17, 18]]], dtype=int32)>"
            ]
          },
          "metadata": {},
          "execution_count": 18
        }
      ]
    },
    {
      "cell_type": "code",
      "source": [
        "tensor.ndim"
      ],
      "metadata": {
        "colab": {
          "base_uri": "https://localhost:8080/"
        },
        "id": "4A4009KcNKA-",
        "outputId": "f8b4f122-f00a-4536-bd24-35b50ae5b136"
      },
      "execution_count": 22,
      "outputs": [
        {
          "output_type": "execute_result",
          "data": {
            "text/plain": [
              "3"
            ]
          },
          "metadata": {},
          "execution_count": 22
        }
      ]
    },
    {
      "cell_type": "markdown",
      "source": [
        "What we've created so far:\n",
        "\n",
        "* Scalar: a single number\n",
        "* Vector: a number with direction (e.g. wind speed and direction)\n",
        "* Matrix: a 2-dimensional array of numbers\n",
        "* Tensor: an n-dimensional array of numbers (when n can be any number, `a 0-dimesional tensor is a scalar`, `a 1-dimensional tensor is a vector`)"
      ],
      "metadata": {
        "id": "Pw_FvtEjOPbZ"
      }
    },
    {
      "cell_type": "code",
      "source": [],
      "metadata": {
        "id": "s68i_vQEPV-J"
      },
      "execution_count": null,
      "outputs": []
    }
  ]
}